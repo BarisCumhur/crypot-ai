{
 "cells": [
  {
   "cell_type": "markdown",
   "metadata": {},
   "source": [
    "Load crypot config"
   ]
  },
  {
   "cell_type": "code",
   "execution_count": null,
   "metadata": {},
   "outputs": [],
   "source": [
    "import json\n",
    "\n",
    "config_file = \"../crypot.json\"\n",
    "config = json.load(open(config_file))\n",
    "host = config['database']['host']\n",
    "port = config['database']['port']\n",
    "dbname = config['database']['name']\n",
    "username = config['database']['username']\n",
    "password = config['database']['password']\n",
    "print(f\"host:{host}\")\n",
    "print(f\"port:{port}\")\n",
    "print(f\"dbname:{dbname}\")\n",
    "print(f\"username:{username}\")\n",
    "print(f\"password:{password}\")"
   ]
  },
  {
   "cell_type": "markdown",
   "metadata": {},
   "source": [
    "Connect to db"
   ]
  },
  {
   "cell_type": "code",
   "execution_count": 5,
   "metadata": {},
   "outputs": [
    {
     "name": "stdout",
     "output_type": "stream",
     "text": [
      "Connection established\n"
     ]
    }
   ],
   "source": [
    "import psycopg2\n",
    "conn_string = f\"host={host} port={port} user={username} dbname={dbname} password={password}\"\n",
    "conn = psycopg2.connect(conn_string)\n",
    "print(\"Connection established\")"
   ]
  },
  {
   "cell_type": "markdown",
   "metadata": {},
   "source": [
    "Get klines for Binance:BTCUSDT"
   ]
  },
  {
   "cell_type": "code",
   "execution_count": 6,
   "metadata": {},
   "outputs": [
    {
     "name": "stdout",
     "output_type": "stream",
     "text": [
      "returned 2149638 rows\n"
     ]
    }
   ],
   "source": [
    "cursor = conn.cursor()\n",
    "\n",
    "_2018 = 1514764800000\n",
    "_2021 = 1609459200000\n",
    "_2022 = 1640995200000\n",
    "_now = 1643743029000\n",
    "epoch = 1645903224000\n",
    "symbol = \"BTCUSDT\"\n",
    "interval = 1 #mins\n",
    "\n",
    "fromval = _2018\n",
    "toval = _now\n",
    "\n",
    "table_name = 'exchanges.binance_klines'\n",
    "query_cmd = f'''\n",
    "        WITH series AS (\n",
    "            SELECT generate_series({fromval} - MOD({fromval}, {interval * 60000}), {toval} - MOD({toval}, {interval * 60000}), {interval * 60000}) AS r_from\n",
    "        )\n",
    "        SELECT \n",
    "            r_from as open_time, \\n\n",
    "            (SELECT open_price FROM {table_name} WHERE symbol = '{symbol}' AND open_time BETWEEN r_from AND r_from + {interval * 60000} ORDER BY open_time ASC LIMIT 1) as open_price,\n",
    "            (SELECT close_price FROM {table_name} WHERE symbol = '{symbol}' AND open_time BETWEEN r_from AND r_from + {interval * 60000} ORDER BY open_time DESC LIMIT 1) as close_price,\n",
    "            (SELECT MIN(low_price) FROM {table_name} WHERE symbol = '{symbol}' AND open_time BETWEEN r_from AND r_from + {interval * 60000}) as low_price,\n",
    "            (SELECT MAX(high_price) FROM {table_name} WHERE symbol = '{symbol}' AND open_time BETWEEN r_from AND r_from + {interval * 60000}) as high_price,\n",
    "            (SELECT SUM(base_volume) FROM {table_name} WHERE symbol = '{symbol}' AND open_time BETWEEN r_from AND r_from + {interval * 60000}) as base_volume,\n",
    "            (SELECT MAX(quote_volume) FROM {table_name} WHERE symbol = '{symbol}' AND open_time BETWEEN r_from AND r_from + {interval * 60000}) as quote_volume\n",
    "        FROM series;'''\n",
    "        \n",
    "cursor.execute(query_cmd)\n",
    "rows = cursor.fetchall()\n",
    "\n",
    "conn.commit()\n",
    "cursor.close()\n",
    "\n",
    "print(f\"returned {len(rows)} rows\")"
   ]
  },
  {
   "cell_type": "code",
   "execution_count": 52,
   "metadata": {},
   "outputs": [],
   "source": [
    "import matplotlib.pyplot as plt\n",
    "import pandas as pd\n",
    "import plotly.graph_objects as go\n",
    "\n",
    "ohlc = pd.DataFrame(rows, columns=[\n",
    "                    'Date', 'Open', 'Close', 'Low', 'High', 'BaseVolume', 'QuoteVolume'])\n",
    "ohlc.to_csv(f\"{symbol}.csv.gz\", index=False, compression='gzip')\n",
    "ohlc['DateTime'] = pd.to_datetime(ohlc['Date'], unit='ms')\n",
    "\n",
    "#trace1 = {\n",
    "#    'x': ohlc['DateTime'],\n",
    "#    'open': ohlc['Open'],\n",
    "#    'close': ohlc['Close'],\n",
    "#    'high':  ohlc['High'],\n",
    "#    'low':  ohlc['Low'],\n",
    "#    'type': 'candlestick',\n",
    "#    'name': symbol,\n",
    "#    'showlegend': True\n",
    "#}\n",
    "#\n",
    "#fig = go.Figure(data=[trace1])\n",
    "#\n",
    "#fig.update_layout(\n",
    "#    height=600\n",
    "#)\n",
    "#fig.show()\n",
    "#"
   ]
  }
 ],
 "metadata": {
  "interpreter": {
   "hash": "b0377fea5f81a6767156833b03e4574d73126642c8ba6804b07dfec79c487beb"
  },
  "kernelspec": {
   "display_name": "Python 3.10.2 64-bit",
   "language": "python",
   "name": "python3"
  },
  "language_info": {
   "codemirror_mode": {
    "name": "ipython",
    "version": 3
   },
   "file_extension": ".py",
   "mimetype": "text/x-python",
   "name": "python",
   "nbconvert_exporter": "python",
   "pygments_lexer": "ipython3",
   "version": "3.8.10"
  },
  "orig_nbformat": 4
 },
 "nbformat": 4,
 "nbformat_minor": 2
}
